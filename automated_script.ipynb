{
 "cells": [
  {
   "cell_type": "code",
   "execution_count": 1,
   "id": "b9501e70",
   "metadata": {
    "tags": []
   },
   "outputs": [],
   "source": [
    "# \"D:\\programming_setup\\chrome_driver_setup\\chromedriver-linux64\\chromedriver\"\n",
    "from selenium import webdriver\n",
    "\n",
    "# Specify the path to the web driver you downloaded earlier\n",
    "# driver = webdriver.Chrome('chromedriver.exe')  # Replace with the path to your driver\n"
   ]
  },
  {
   "cell_type": "code",
   "execution_count": 18,
   "id": "d3dde0a8",
   "metadata": {
    "tags": []
   },
   "outputs": [],
   "source": [
    "from selenium import webdriver\n",
    "from selenium.webdriver.common.keys import Keys\n",
    "from selenium.webdriver.common.by import By\n",
    "driver = webdriver.Chrome()"
   ]
  },
  {
   "cell_type": "code",
   "execution_count": 27,
   "id": "3873f502",
   "metadata": {},
   "outputs": [],
   "source": [
    "url = \"url_link\"  # Replace with the actual URL\n",
    "driver.get(url)"
   ]
  },
  {
   "cell_type": "code",
   "execution_count": 39,
   "id": "2353e699-0262-439e-ac4f-1ab9adce50e5",
   "metadata": {
    "tags": []
   },
   "outputs": [],
   "source": [
    "# Find the message textarea by its name attribute\n",
    "message_textarea = driver.find_element(By.NAME, \"message\")\n",
    "\n",
    "# Fill in the message field\n",
    "message_textarea.send_keys(\"Your message here\")\n"
   ]
  },
  {
   "cell_type": "code",
   "execution_count": 40,
   "id": "b23c6ea1-6219-456d-8fae-b4bd1c68c76e",
   "metadata": {
    "tags": []
   },
   "outputs": [],
   "source": [
    "# Find the \"Send Message\" button by its value attribute\n",
    "send_button = driver.find_element(By.XPATH, \"//input[@value='Send Message']\")\n",
    "\n",
    "# Click the \"Send Message\" button\n",
    "send_button.click()"
   ]
  },
  {
   "cell_type": "code",
   "execution_count": 41,
   "id": "d43103d5-ee8d-4932-8e2d-2868cfcd925e",
   "metadata": {
    "tags": []
   },
   "outputs": [],
   "source": [
    "driver.back()"
   ]
  },
  {
   "cell_type": "code",
   "execution_count": null,
   "id": "c0e2ba73-2c6a-4b4b-9b2d-cdabee970a71",
   "metadata": {},
   "outputs": [],
   "source": [
    "message_textarea.send_keys(\"Your message here\")"
   ]
  },
  {
   "cell_type": "code",
   "execution_count": null,
   "id": "420803ac-8dc3-48c8-bcfb-2c57b1f39a8b",
   "metadata": {},
   "outputs": [],
   "source": []
  },
  {
   "cell_type": "code",
   "execution_count": null,
   "id": "a99abd66-2346-4b10-806e-519ba67cb943",
   "metadata": {},
   "outputs": [],
   "source": [
    "# full code--------------------------"
   ]
  },
  {
   "cell_type": "code",
   "execution_count": 10,
   "id": "ccf88b72-0f56-42f9-b5c0-ce165baf6ded",
   "metadata": {
    "tags": []
   },
   "outputs": [],
   "source": [
    "from selenium import webdriver\n",
    "from selenium.webdriver.common.keys import Keys\n",
    "from selenium.webdriver.common.by import By\n",
    "from selenium.webdriver.support.ui import WebDriverWait\n",
    "from selenium.webdriver.support import expected_conditions as EC\n",
    "import time\n",
    "import random\n",
    "\n",
    "# Specify the path to the chromedriver.exe\n",
    "driver = webdriver.Chrome()\n",
    "# Navigate to the URL where the form is located\n",
    "url = \"url_link\"\n",
    "driver.get(url)"
   ]
  },
  {
   "cell_type": "code",
   "execution_count": null,
   "id": "cc064808-da6f-43ac-9122-8efe2a6e008e",
   "metadata": {
    "tags": []
   },
   "outputs": [],
   "source": [
    "\n",
    "\n",
    "# List of messages to choose from\n",
    "messages = [\n",
    "   \"\"\"   \n",
    "    ┌∩┐(◕◡◉)┌∩┐\n",
    "    \"\"\"\n",
    "]\n",
    "\n",
    "# Number of times to submit the form\n",
    "num_submissions = 100\n",
    "\n",
    "for _ in range(num_submissions):\n",
    "    # Select a random message from the list\n",
    "    random_message = random.choice(messages)\n",
    "\n",
    "    # Find the message textarea by its name attribute\n",
    "    message_textarea = driver.find_element(By.NAME, \"message\")\n",
    "\n",
    "    # Fill in the message field with the random message\n",
    "    message_textarea.clear()\n",
    "    message_textarea.send_keys(random_message)\n",
    "\n",
    "    # Pause for 3 seconds before clicking the \"Send Message\" button\n",
    "    time.sleep(10)\n",
    "\n",
    "    # Find the \"Send Message\" button by its value attribute\n",
    "    send_button = driver.find_element(By.XPATH, \"//input[@value='Send Message']\")\n",
    "\n",
    "    # Click the \"Send Message\" button\n",
    "    send_button.click()\n",
    "\n",
    "    # Optionally, wait for a confirmation or success message if necessary\n",
    "    # Add your code for confirmation here\n",
    "\n",
    "    # Navigate back to the form\n",
    "    driver.back()\n",
    "\n",
    "    # Clear the message textarea to prepare for the next submission\n",
    "    message_textarea.clear()\n",
    "\n",
    "# Close the browser when done\n",
    "driver.quit()"
   ]
  }
 ],
 "metadata": {
  "kernelspec": {
   "display_name": "Python 3 (ipykernel)",
   "language": "python",
   "name": "python3"
  },
  "language_info": {
   "codemirror_mode": {
    "name": "ipython",
    "version": 3
   },
   "file_extension": ".py",
   "mimetype": "text/x-python",
   "name": "python",
   "nbconvert_exporter": "python",
   "pygments_lexer": "ipython3",
   "version": "3.10.9"
  }
 },
 "nbformat": 4,
 "nbformat_minor": 5
}
